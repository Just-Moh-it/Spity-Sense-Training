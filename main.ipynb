{
 "cells": [
  {
   "cell_type": "code",
   "execution_count": 119,
   "metadata": {},
   "outputs": [
    {
     "name": "stdout",
     "output_type": "stream",
     "text": [
      "./data_raw/movie_conversations.tsv\n",
      "./data_raw/movie_titles_metadata.tsv\n",
      "./data_raw/movie_characters_metadata.tsv\n",
      "./data_raw/movie_lines.tsv\n",
      "./data_raw/README.txt\n",
      "./data_raw/raw_script_urls.tsv\n"
     ]
    }
   ],
   "source": [
    "# This Python 3 environment comes with many helpful analytics libraries installed\n",
    "# It is defined by the kaggle/python Docker image: https://github.com/kaggle/docker-python\n",
    "# For example, here's several helpful packages to load\n",
    "\n",
    "import numpy as np # linear algebra\n",
    "import pandas as pd # data processing, CSV file I/O (e.g. pd.read_csv)\n",
    "\n",
    "# Input data files are available in the read-only \"../input/\" directory\n",
    "# For example, running this (by clicking run or pressing Shift+Enter) will list all files under the input directory\n",
    "\n",
    "import os\n",
    "for dirname, _, filenames in os.walk('./data_raw'):\n",
    "    for filename in filenames:\n",
    "        print(os.path.join(dirname, filename))\n",
    "\n",
    "# You can write up to 20GB to the current directory (/kaggle/working/) that gets preserved as output when you create a version using \"Save & Run All\" \n",
    "# You can also write temporary "
   ]
  },
  {
   "cell_type": "code",
   "execution_count": 120,
   "metadata": {},
   "outputs": [
    {
     "name": "stderr",
     "output_type": "stream",
     "text": [
      "/var/folders/6c/81hr3gfj4rs2c3wnmbn0xc1m0000gn/T/ipykernel_52849/3897709760.py:4: DtypeWarning: Columns (5,6,7,8,9,10,11,12,13,14,15,16,17,18,19,20,21,23,25,26,27,28,31,33,34,35) have mixed types. Specify dtype option on import or set low_memory=False.\n",
      "  lines_data = pd.read_csv('./data_raw/movie_lines.tsv', sep=\"\\t\", names=cols)\n"
     ]
    },
    {
     "data": {
      "text/plain": [
       "(  first_char second_char movie_id                          convo\n",
       " 0         u0          u2       m0  ['L194' 'L195' 'L196' 'L197']\n",
       " 1         u0          u2       m0                ['L198' 'L199']\n",
       " 2         u0          u2       m0  ['L200' 'L201' 'L202' 'L203']\n",
       " 3         u0          u2       m0         ['L204' 'L205' 'L206']\n",
       " 4         u0          u2       m0                ['L207' 'L208'],\n",
       "   line_id character_id movie_id character_name          text\n",
       " 0   L1045           u0       m0         BIANCA  They do not!\n",
       " 1   L1044           u2       m0        CAMERON   They do to!\n",
       " 2    L985           u0       m0         BIANCA    I hope so.\n",
       " 3    L984           u2       m0        CAMERON     She okay?\n",
       " 4    L925           u0       m0         BIANCA     Let's go.)"
      ]
     },
     "execution_count": 120,
     "metadata": {},
     "output_type": "execute_result"
    }
   ],
   "source": [
    "convo_data = pd.read_csv('./data_raw/movie_conversations.tsv', sep=\"\\t\", header=None, names=[\"first_char\", \"second_char\", \"movie_id\", \"convo\"])\n",
    "\n",
    "cols = [f'col_{i}' for i in range(0,150)]\n",
    "lines_data = pd.read_csv('./data_raw/movie_lines.tsv', sep=\"\\t\", names=cols)\n",
    "# Rename columns\n",
    "lines_data.rename(columns={'col_0': 'line_id', 'col_1': 'character_id', 'col_2': 'movie_id', 'col_3': 'character_name', 'col_4': 'text'}, inplace=True)\n",
    "lines_data.drop(list(lines_data)[5:], axis=1, inplace=True)\n",
    "\n",
    "convo_data.head(), lines_data.head()"
   ]
  },
  {
   "cell_type": "code",
   "execution_count": 121,
   "metadata": {},
   "outputs": [
    {
     "name": "stderr",
     "output_type": "stream",
     "text": [
      "/var/folders/6c/81hr3gfj4rs2c3wnmbn0xc1m0000gn/T/ipykernel_52849/757153175.py:8: SettingWithCopyWarning: \n",
      "A value is trying to be set on a copy of a slice from a DataFrame.\n",
      "Try using .loc[row_indexer,col_indexer] = value instead\n",
      "\n",
      "See the caveats in the documentation: https://pandas.pydata.org/pandas-docs/stable/user_guide/indexing.html#returning-a-view-versus-a-copy\n",
      "  spidy_convo['response'] = None\n"
     ]
    },
    {
     "data": {
      "text/html": [
       "<div>\n",
       "<style scoped>\n",
       "    .dataframe tbody tr th:only-of-type {\n",
       "        vertical-align: middle;\n",
       "    }\n",
       "\n",
       "    .dataframe tbody tr th {\n",
       "        vertical-align: top;\n",
       "    }\n",
       "\n",
       "    .dataframe thead th {\n",
       "        text-align: right;\n",
       "    }\n",
       "</style>\n",
       "<table border=\"1\" class=\"dataframe\">\n",
       "  <thead>\n",
       "    <tr style=\"text-align: right;\">\n",
       "      <th></th>\n",
       "      <th>first_char</th>\n",
       "      <th>second_char</th>\n",
       "      <th>movie_id</th>\n",
       "      <th>convo</th>\n",
       "      <th>response</th>\n",
       "    </tr>\n",
       "  </thead>\n",
       "  <tbody>\n",
       "    <tr>\n",
       "      <th>26475</th>\n",
       "      <td>u2863</td>\n",
       "      <td>u2871</td>\n",
       "      <td>m189</td>\n",
       "      <td>[L529861, L529862]</td>\n",
       "      <td>None</td>\n",
       "    </tr>\n",
       "    <tr>\n",
       "      <th>26476</th>\n",
       "      <td>u2863</td>\n",
       "      <td>u2871</td>\n",
       "      <td>m189</td>\n",
       "      <td>[L529866, L529867]</td>\n",
       "      <td>None</td>\n",
       "    </tr>\n",
       "    <tr>\n",
       "      <th>26477</th>\n",
       "      <td>u2863</td>\n",
       "      <td>u2871</td>\n",
       "      <td>m189</td>\n",
       "      <td>[L530010, L530011]</td>\n",
       "      <td>None</td>\n",
       "    </tr>\n",
       "    <tr>\n",
       "      <th>26478</th>\n",
       "      <td>u2863</td>\n",
       "      <td>u2871</td>\n",
       "      <td>m189</td>\n",
       "      <td>[L530016, L530017]</td>\n",
       "      <td>None</td>\n",
       "    </tr>\n",
       "    <tr>\n",
       "      <th>26479</th>\n",
       "      <td>u2863</td>\n",
       "      <td>u2871</td>\n",
       "      <td>m189</td>\n",
       "      <td>[L530024, L530025]</td>\n",
       "      <td>None</td>\n",
       "    </tr>\n",
       "  </tbody>\n",
       "</table>\n",
       "</div>"
      ],
      "text/plain": [
       "      first_char second_char movie_id               convo response\n",
       "26475      u2863       u2871     m189  [L529861, L529862]     None\n",
       "26476      u2863       u2871     m189  [L529866, L529867]     None\n",
       "26477      u2863       u2871     m189  [L530010, L530011]     None\n",
       "26478      u2863       u2871     m189  [L530016, L530017]     None\n",
       "26479      u2863       u2871     m189  [L530024, L530025]     None"
      ]
     },
     "execution_count": 121,
     "metadata": {},
     "output_type": "execute_result"
    }
   ],
   "source": [
    "# Get conversations in string format from primary keys\n",
    "for i, dat in enumerate(convo_data['convo']):\n",
    "  # Convert list literal to actual list\n",
    "  dat = [i.strip(\"'\") for i in dat.strip('][').split(' ')]\n",
    "  convo_data.loc[i]['convo'] = dat\n",
    "\n",
    "spidy_convo = convo_data.loc[convo_data['movie_id'] == 'm189']\n",
    "spidy_convo['response'] = None\n",
    "spidy_convo.head()"
   ]
  },
  {
   "cell_type": "code",
   "execution_count": 122,
   "metadata": {},
   "outputs": [],
   "source": [
    "for indx, data in enumerate(spidy_convo.iterrows()):\n",
    "  data = data[1]\n",
    "  conv = [\": \".join([lines_data.loc[lines_data['line_id'] == i]['character_name'].values[0], lines_data.loc[lines_data['line_id'] == i]['text'].values[0]]) for i in data['convo']]\n",
    "  # print('LIZ' in str(conv))\n",
    "  # data['convo']  = \"\\n\".join(conv)\n",
    "  if ('PETER:' in str(conv)) or ('SPIDER-MAN:' in str(conv)):\n",
    "    idx_from_end=0\n",
    "    res = \"\"\n",
    "    if \"PETER:\" in str(conv):\n",
    "      idx_from_end = max([i if 'PETER:' in st else 0 for i, st in enumerate(conv)])\n",
    "      res = conv[idx_from_end][7:]\n",
    "      conv[idx_from_end] =  \"PETER: <RESPONSE-HERE>\"\n",
    "    else:\n",
    "      idx_from_end = max([i if 'SPIDER-MAN:' in st else 0 for i, st in enumerate(conv)])\n",
    "      res = conv[idx_from_end][11:]\n",
    "      conv[idx_from_end] = \"SPIDER-MAN: <RESPONSE-HERE>\"\n",
    "\n",
    "    spidy_convo.iloc[indx]['convo'] = \"\\n\".join(conv)\n",
    "    spidy_convo.iloc[indx]['response'] = res\n"
   ]
  },
  {
   "cell_type": "code",
   "execution_count": 135,
   "metadata": {},
   "outputs": [],
   "source": [
    "finished = spidy_convo.loc[spidy_convo['response'].notnull()][['convo', 'response']]"
   ]
  },
  {
   "cell_type": "code",
   "execution_count": 136,
   "metadata": {},
   "outputs": [
    {
     "data": {
      "text/html": [
       "<div>\n",
       "<style scoped>\n",
       "    .dataframe tbody tr th:only-of-type {\n",
       "        vertical-align: middle;\n",
       "    }\n",
       "\n",
       "    .dataframe tbody tr th {\n",
       "        vertical-align: top;\n",
       "    }\n",
       "\n",
       "    .dataframe thead th {\n",
       "        text-align: right;\n",
       "    }\n",
       "</style>\n",
       "<table border=\"1\" class=\"dataframe\">\n",
       "  <thead>\n",
       "    <tr style=\"text-align: right;\">\n",
       "      <th></th>\n",
       "      <th>convo</th>\n",
       "      <th>response</th>\n",
       "    </tr>\n",
       "  </thead>\n",
       "  <tbody>\n",
       "    <tr>\n",
       "      <th>26480</th>\n",
       "      <td>BEN: Here you go Pete.\\nPETER: Uh Uncle Ben I-...</td>\n",
       "      <td>No. No that's okay.</td>\n",
       "    </tr>\n",
       "    <tr>\n",
       "      <th>26481</th>\n",
       "      <td>BEN: So uh... how's college goin'?\\nPETER: Sam...</td>\n",
       "      <td>I know.  Still thinking about retiring?</td>\n",
       "    </tr>\n",
       "    <tr>\n",
       "      <th>26482</th>\n",
       "      <td>BEN: Ya still follow the Mets Pete?\\nPETER: No...</td>\n",
       "      <td>Remember Little League?</td>\n",
       "    </tr>\n",
       "    <tr>\n",
       "      <th>26483</th>\n",
       "      <td>BEN: Ya set for uh ya know-- money?\\nPETER: Oh...</td>\n",
       "      <td>Oh come on Ben that's not--</td>\n",
       "    </tr>\n",
       "    <tr>\n",
       "      <th>26484</th>\n",
       "      <td>BEN: When you won that scholarship I was proud...</td>\n",
       "      <td>I know.</td>\n",
       "    </tr>\n",
       "    <tr>\n",
       "      <th>...</th>\n",
       "      <td>...</td>\n",
       "      <td>...</td>\n",
       "    </tr>\n",
       "    <tr>\n",
       "      <th>26590</th>\n",
       "      <td>ROZ: I listened to him talk of eternal truth a...</td>\n",
       "      <td>Just drop me off here.</td>\n",
       "    </tr>\n",
       "    <tr>\n",
       "      <th>26591</th>\n",
       "      <td>ROZ: Do you... live around here?\\nSPIDER-MAN: ...</td>\n",
       "      <td>Phooey on that.</td>\n",
       "    </tr>\n",
       "    <tr>\n",
       "      <th>26592</th>\n",
       "      <td>ROZ: Spider-Man be careful!  He's quite mad.\\n...</td>\n",
       "      <td>I'm not so happy myself.</td>\n",
       "    </tr>\n",
       "    <tr>\n",
       "      <th>26593</th>\n",
       "      <td>SPIDER-MAN: &lt;RESPONSE-HERE&gt;\\nROZ: Sure in the ...</td>\n",
       "      <td>Professor you ever fly one of these things be...</td>\n",
       "    </tr>\n",
       "    <tr>\n",
       "      <th>26594</th>\n",
       "      <td>SPIDER-MAN: &lt;RESPONSE-HERE&gt;\\nROZ: No no!  Not ...</td>\n",
       "      <td>Up here Docky Ocky!</td>\n",
       "    </tr>\n",
       "  </tbody>\n",
       "</table>\n",
       "<p>85 rows × 2 columns</p>\n",
       "</div>"
      ],
      "text/plain": [
       "                                                   convo  \\\n",
       "26480  BEN: Here you go Pete.\\nPETER: Uh Uncle Ben I-...   \n",
       "26481  BEN: So uh... how's college goin'?\\nPETER: Sam...   \n",
       "26482  BEN: Ya still follow the Mets Pete?\\nPETER: No...   \n",
       "26483  BEN: Ya set for uh ya know-- money?\\nPETER: Oh...   \n",
       "26484  BEN: When you won that scholarship I was proud...   \n",
       "...                                                  ...   \n",
       "26590  ROZ: I listened to him talk of eternal truth a...   \n",
       "26591  ROZ: Do you... live around here?\\nSPIDER-MAN: ...   \n",
       "26592  ROZ: Spider-Man be careful!  He's quite mad.\\n...   \n",
       "26593  SPIDER-MAN: <RESPONSE-HERE>\\nROZ: Sure in the ...   \n",
       "26594  SPIDER-MAN: <RESPONSE-HERE>\\nROZ: No no!  Not ...   \n",
       "\n",
       "                                                response  \n",
       "26480                                No. No that's okay.  \n",
       "26481            I know.  Still thinking about retiring?  \n",
       "26482                            Remember Little League?  \n",
       "26483                        Oh come on Ben that's not--  \n",
       "26484                                            I know.  \n",
       "...                                                  ...  \n",
       "26590                             Just drop me off here.  \n",
       "26591                                    Phooey on that.  \n",
       "26592                           I'm not so happy myself.  \n",
       "26593   Professor you ever fly one of these things be...  \n",
       "26594                                Up here Docky Ocky!  \n",
       "\n",
       "[85 rows x 2 columns]"
      ]
     },
     "execution_count": 136,
     "metadata": {},
     "output_type": "execute_result"
    }
   ],
   "source": [
    "finished"
   ]
  },
  {
   "cell_type": "code",
   "execution_count": 137,
   "metadata": {},
   "outputs": [],
   "source": [
    "# Write to jsonl file\n",
    "finished.to_json('./spidy_convo.jsonl', orient='records', lines=True)"
   ]
  },
  {
   "cell_type": "code",
   "execution_count": null,
   "metadata": {},
   "outputs": [],
   "source": []
  }
 ],
 "metadata": {
  "interpreter": {
   "hash": "949777d72b0d2535278d3dc13498b2535136f6dfe0678499012e853ee9abcab1"
  },
  "kernelspec": {
   "display_name": "Python 3.10.2 64-bit",
   "language": "python",
   "name": "python3"
  },
  "language_info": {
   "codemirror_mode": {
    "name": "ipython",
    "version": 3
   },
   "file_extension": ".py",
   "mimetype": "text/x-python",
   "name": "python",
   "nbconvert_exporter": "python",
   "pygments_lexer": "ipython3",
   "version": "3.10.2"
  },
  "orig_nbformat": 4
 },
 "nbformat": 4,
 "nbformat_minor": 2
}
